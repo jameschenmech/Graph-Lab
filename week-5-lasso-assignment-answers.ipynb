{
 "cells": [
  {
   "cell_type": "markdown",
   "metadata": {},
   "source": [
    "# Regression Week 5: LASSO (coordinate descent)"
   ]
  },
  {
   "cell_type": "markdown",
   "metadata": {},
   "source": [
    "In this notebook, you will implement your very own LASSO solver via coordinate descent. You will:\n",
    "* Write a function to normalize features\n",
    "* Implement coordinate descent for LASSO\n",
    "* Explore effects of L1 penalty"
   ]
  },
  {
   "cell_type": "markdown",
   "metadata": {},
   "source": [
    "# Fire up graphlab create"
   ]
  },
  {
   "cell_type": "markdown",
   "metadata": {},
   "source": [
    "Make sure you have the latest version of graphlab (>= 1.7)"
   ]
  },
  {
   "cell_type": "code",
   "execution_count": 1,
   "metadata": {
    "collapsed": false
   },
   "outputs": [
    {
     "name": "stderr",
     "output_type": "stream",
     "text": [
      "A newer version of GraphLab Create (v1.8.4) is available! Your current version is v1.8.1.\n",
      "\n",
      "You can use pip to upgrade the graphlab-create package. For more information see https://dato.com/products/create/upgrade.\n"
     ]
    }
   ],
   "source": [
    "import graphlab\n",
    "import numpy as np"
   ]
  },
  {
   "cell_type": "markdown",
   "metadata": {},
   "source": [
    "# Load in house sales data\n",
    "\n",
    "Dataset is from house sales in King County, the region where the city of Seattle, WA is located."
   ]
  },
  {
   "cell_type": "code",
   "execution_count": 2,
   "metadata": {
    "collapsed": false
   },
   "outputs": [
    {
     "name": "stderr",
     "output_type": "stream",
     "text": [
      "[INFO] This non-commercial license of GraphLab Create is assigned to junchn8@gmail.com and will expire on December 23, 2016. For commercial licensing options, visit https://dato.com/buy/.\n",
      "\n",
      "[INFO] Start server at: ipc:///tmp/graphlab_server-15112 - Server binary: C:\\Users\\James\\AppData\\Local\\Dato\\Dato Launcher\\lib\\site-packages\\graphlab\\unity_server.exe - Server log: C:\\Users\\James\\AppData\\Local\\Temp\\graphlab_server_1457890758.log.0\n",
      "[INFO] GraphLab Server Version: 1.8.1\n"
     ]
    }
   ],
   "source": [
    "sales = graphlab.SFrame('kc_house_data.gl/')\n",
    "# In the dataset, 'floors' was defined with type string, \n",
    "# so we'll convert them to int, before using it below\n",
    "sales['floors'] = sales['floors'].astype(int) "
   ]
  },
  {
   "cell_type": "markdown",
   "metadata": {},
   "source": [
    "If we want to do any \"feature engineering\" like creating new features or adjusting existing ones we should do this directly using the SFrames as seen in the first notebook of Week 2. For this notebook, however, we will work with the existing features."
   ]
  },
  {
   "cell_type": "markdown",
   "metadata": {},
   "source": [
    "# Import useful functions from previous notebook"
   ]
  },
  {
   "cell_type": "markdown",
   "metadata": {},
   "source": [
    "As in Week 2, we convert the SFrame into a 2D Numpy array. Copy and paste `get_num_data()` from the second notebook of Week 2."
   ]
  },
  {
   "cell_type": "code",
   "execution_count": 3,
   "metadata": {
    "collapsed": true
   },
   "outputs": [],
   "source": [
    "import numpy as np # note this allows us to refer to numpy as np instead "
   ]
  },
  {
   "cell_type": "code",
   "execution_count": 4,
   "metadata": {
    "collapsed": true
   },
   "outputs": [],
   "source": [
    "def get_numpy_data(data_sframe, features, output):\n",
    "    data_sframe['constant'] = 1 # this is how you add a constant column to an SFrame\n",
    "    # add the column 'constant' to the front of the features list so that we can extract it along with the others:\n",
    "    features = ['constant'] + features # this is how you combine two lists\n",
    "    # select the columns of data_SFrame given by the features list into the SFrame features_sframe (now including constant):\n",
    "    features_sframe = data_sframe[features]\n",
    "    # the following line will convert the features_SFrame into a numpy matrix:\n",
    "    feature_matrix = features_sframe.to_numpy()\n",
    "    # assign the column of data_sframe associated with the output to the SArray output_sarray\n",
    "    output_sarray = data_sframe[output]\n",
    "    # the following will convert the SArray into a numpy array by first converting it to a list\n",
    "    output_array = output_sarray.to_numpy()\n",
    "    return(feature_matrix, output_array)"
   ]
  },
  {
   "cell_type": "markdown",
   "metadata": {},
   "source": [
    "Also, copy and paste the `predict_output()` function to compute the predictions for an entire matrix of features given the matrix and the weights:"
   ]
  },
  {
   "cell_type": "code",
   "execution_count": 5,
   "metadata": {
    "collapsed": true
   },
   "outputs": [],
   "source": [
    "def predict_output(feature_matrix, weights):\n",
    "    # assume feature_matrix is a numpy matrix containing the features as columns and weights is a corresponding numpy array\n",
    "    # create the predictions vector by using np.dot()\n",
    "    predictions = np.dot(feature_matrix,weights)\n",
    "\n",
    "    return(predictions)"
   ]
  },
  {
   "cell_type": "markdown",
   "metadata": {},
   "source": [
    "# Normalize features\n",
    "In the house dataset, features vary wildly in their relative magnitude: `sqft_living` is very large overall compared to `bedrooms`, for instance. As a result, weight for `sqft_living` would be much smaller than weight for `bedrooms`. This is problematic because \"small\" weights are dropped first as `l1_penalty` goes up. \n",
    "\n",
    "To give equal considerations for all features, we need to **normalize features** as discussed in the lectures: we divide each feature by its 2-norm so that the transformed feature has norm 1.\n",
    "\n",
    "Let's see how we can do this normalization easily with Numpy: let us first consider a small matrix."
   ]
  },
  {
   "cell_type": "code",
   "execution_count": 6,
   "metadata": {
    "collapsed": false
   },
   "outputs": [
    {
     "name": "stdout",
     "output_type": "stream",
     "text": [
      "[[  3.   5.   8.]\n",
      " [  4.  12.  15.]]\n"
     ]
    }
   ],
   "source": [
    "X = np.array([[3.,5.,8.],[4.,12.,15.]])\n",
    "print X"
   ]
  },
  {
   "cell_type": "markdown",
   "metadata": {},
   "source": [
    "Numpy provides a shorthand for computing 2-norms of each column:"
   ]
  },
  {
   "cell_type": "code",
   "execution_count": 7,
   "metadata": {
    "collapsed": false
   },
   "outputs": [
    {
     "name": "stdout",
     "output_type": "stream",
     "text": [
      "[  5.  13.  17.]\n"
     ]
    }
   ],
   "source": [
    "norms = np.linalg.norm(X, axis=0) # gives [norm(X[:,0]), norm(X[:,1]), norm(X[:,2])]\n",
    "print norms"
   ]
  },
  {
   "cell_type": "markdown",
   "metadata": {},
   "source": [
    "To normalize, apply element-wise division:"
   ]
  },
  {
   "cell_type": "code",
   "execution_count": 8,
   "metadata": {
    "collapsed": false
   },
   "outputs": [
    {
     "name": "stdout",
     "output_type": "stream",
     "text": [
      "[[ 0.6         0.38461538  0.47058824]\n",
      " [ 0.8         0.92307692  0.88235294]]\n"
     ]
    }
   ],
   "source": [
    "print X / norms # gives [X[:,0]/norm(X[:,0]), X[:,1]/norm(X[:,1]), X[:,2]/norm(X[:,2])]"
   ]
  },
  {
   "cell_type": "markdown",
   "metadata": {},
   "source": [
    "Using the shorthand we just covered, write a short function called `normalize_features(feature_matrix)`, which normalizes columns of a given feature matrix. The function should return a pair `(normalized_features, norms)`, where the second item contains the norms of original features. As discussed in the lectures, we will use these norms to normalize the test data in the same way as we normalized the training data. "
   ]
  },
  {
   "cell_type": "code",
   "execution_count": 9,
   "metadata": {
    "collapsed": true
   },
   "outputs": [],
   "source": [
    "def normalize_features(feature_matrix):\n",
    "    norms = np.linalg.norm(feature_matrix,axis=0)\n",
    "    normalized_features = feature_matrix/norms\n",
    "    return (normalized_features, norms)"
   ]
  },
  {
   "cell_type": "markdown",
   "metadata": {},
   "source": [
    "To test the function, run the following:"
   ]
  },
  {
   "cell_type": "code",
   "execution_count": 10,
   "metadata": {
    "collapsed": false
   },
   "outputs": [
    {
     "name": "stdout",
     "output_type": "stream",
     "text": [
      "[[ 0.6  0.6  0.6]\n",
      " [ 0.8  0.8  0.8]]\n",
      "[  5.  10.  15.]\n"
     ]
    }
   ],
   "source": [
    "features, norms = normalize_features(np.array([[3.,6.,9.],[4.,8.,12.]]))\n",
    "print features\n",
    "# should print\n",
    "# [[ 0.6  0.6  0.6]\n",
    "#  [ 0.8  0.8  0.8]]\n",
    "print norms\n",
    "# should print\n",
    "# [5.  10.  15.]"
   ]
  },
  {
   "cell_type": "markdown",
   "metadata": {},
   "source": [
    "# Implementing Coordinate Descent with normalized features"
   ]
  },
  {
   "cell_type": "markdown",
   "metadata": {},
   "source": [
    "We seek to obtain a sparse set of weights by minimizing the LASSO cost function\n",
    "```\n",
    "SUM[ (prediction - output)^2 ] + lambda*( |w[1]| + ... + |w[k]|).\n",
    "```\n",
    "(By convention, we do not include `w[0]` in the L1 penalty term. We never want to push the intercept to zero.)\n",
    "\n",
    "The absolute value sign makes the cost function non-differentiable, so simple gradient descent is not viable (you would need to implement a method called subgradient descent). Instead, we will use **coordinate descent**: at each iteration, we will fix all weights but weight `i` and find the value of weight `i` that minimizes the objective. That is, we look for\n",
    "```\n",
    "argmin_{w[i]} [ SUM[ (prediction - output)^2 ] + lambda*( |w[1]| + ... + |w[k]|) ]\n",
    "```\n",
    "where all weights other than `w[i]` are held to be constant. We will optimize one `w[i]` at a time, circling through the weights multiple times.  \n",
    "  1. Pick a coordinate `i`\n",
    "  2. Compute `w[i]` that minimizes the cost function `SUM[ (prediction - output)^2 ] + lambda*( |w[1]| + ... + |w[k]|)`\n",
    "  3. Repeat Steps 1 and 2 for all coordinates, multiple times"
   ]
  },
  {
   "cell_type": "markdown",
   "metadata": {},
   "source": [
    "For this notebook, we use **cyclical coordinate descent with normalized features**, where we cycle through coordinates 0 to (d-1) in order, and assume the features were normalized as discussed above. The formula for optimizing each coordinate is as follows:\n",
    "```\n",
    "       ┌ (ro[i] + lambda/2)     if ro[i] < -lambda/2\n",
    "w[i] = ├ 0                      if -lambda/2 <= ro[i] <= lambda/2\n",
    "       └ (ro[i] - lambda/2)     if ro[i] > lambda/2\n",
    "```\n",
    "where\n",
    "```\n",
    "ro[i] = SUM[ [feature_i]*(output - prediction + w[i]*[feature_i]) ].\n",
    "```\n",
    "\n",
    "Note that we do not regularize the weight of the constant feature (intercept) `w[0]`, so, for this weight, the update is simply:\n",
    "```\n",
    "w[0] = ro[i]\n",
    "```"
   ]
  },
  {
   "cell_type": "markdown",
   "metadata": {},
   "source": [
    "## Effect of L1 penalty"
   ]
  },
  {
   "cell_type": "markdown",
   "metadata": {},
   "source": [
    "Let us consider a simple model with 2 features:"
   ]
  },
  {
   "cell_type": "code",
   "execution_count": 11,
   "metadata": {
    "collapsed": true
   },
   "outputs": [],
   "source": [
    "simple_features = ['sqft_living', 'bedrooms']\n",
    "my_output = 'price'\n",
    "(simple_feature_matrix, output) = get_numpy_data(sales, simple_features, my_output)"
   ]
  },
  {
   "cell_type": "markdown",
   "metadata": {},
   "source": [
    "Don't forget to normalize features:"
   ]
  },
  {
   "cell_type": "code",
   "execution_count": 12,
   "metadata": {
    "collapsed": true
   },
   "outputs": [],
   "source": [
    "simple_feature_matrix, norms = normalize_features(simple_feature_matrix)"
   ]
  },
  {
   "cell_type": "markdown",
   "metadata": {},
   "source": [
    "We assign some random set of initial weights and inspect the values of `ro[i]`:"
   ]
  },
  {
   "cell_type": "code",
   "execution_count": 13,
   "metadata": {
    "collapsed": false
   },
   "outputs": [],
   "source": [
    "weights = np.array([1., 4., 1.])"
   ]
  },
  {
   "cell_type": "markdown",
   "metadata": {},
   "source": [
    "Use `predict_output()` to make predictions on this data."
   ]
  },
  {
   "cell_type": "code",
   "execution_count": 14,
   "metadata": {
    "collapsed": false
   },
   "outputs": [
    {
     "data": {
      "text/plain": [
       "(21613L, 3L)"
      ]
     },
     "execution_count": 14,
     "metadata": {},
     "output_type": "execute_result"
    }
   ],
   "source": [
    "prediction = predict_output(simple_feature_matrix,weights)\n",
    "simple_feature_matrix.shape\n",
    "#output.shape"
   ]
  },
  {
   "cell_type": "markdown",
   "metadata": {},
   "source": [
    "Compute the values of `ro[i]` for each feature in this simple model, using the formula given above, using the formula:\n",
    "```\n",
    "ro[i] = SUM[ [feature_i]*(output - prediction + w[i]*[feature_i]) ]\n",
    "```\n",
    "\n",
    "*Hint: You can get a Numpy vector for feature_i using:*\n",
    "```\n",
    "simple_feature_matrix[:,i]\n",
    "```"
   ]
  },
  {
   "cell_type": "code",
   "execution_count": 15,
   "metadata": {
    "collapsed": false
   },
   "outputs": [
    {
     "name": "stdout",
     "output_type": "stream",
     "text": [
      "79400300.0349\n",
      "87939470.773\n",
      "80966698.676\n"
     ]
    }
   ],
   "source": [
    "ro = np.array([0., 0., 0.])\n",
    "\n",
    "for i in range(0,3):\n",
    "    feature_i=simple_feature_matrix[:,i]\n",
    "    ro[i] = (feature_i*(output-prediction+weights[i]*feature_i)).sum()\n",
    "  \n",
    "\n",
    "print ro[0]\n",
    "print ro[1]\n",
    "print ro[2]"
   ]
  },
  {
   "cell_type": "markdown",
   "metadata": {},
   "source": [
    "***QUIZ QUESTION***\n",
    "\n",
    "Recall that, whenever `ro[i]` falls between `-l1_penalty/2` and `l1_penalty/2`, the corresponding weight `w[i]` is sent to zero. Now suppose we were to take one step of coordinate descent on either feature 1 or feature 2. What range of values of `l1_penalty` **would not** set `w[1]` zero, but **would** set `w[2]` to zero, if we were to take a step in that coordinate? "
   ]
  },
  {
   "cell_type": "code",
   "execution_count": 16,
   "metadata": {
    "collapsed": false
   },
   "outputs": [
    {
     "ename": "SyntaxError",
     "evalue": "invalid syntax (<ipython-input-16-cb3b96d765a5>, line 1)",
     "output_type": "error",
     "traceback": [
      "\u001b[1;36m  File \u001b[1;32m\"<ipython-input-16-cb3b96d765a5>\"\u001b[1;36m, line \u001b[1;32m1\u001b[0m\n\u001b[1;33m    =2*87.9x10^6\u001b[0m\n\u001b[1;37m    ^\u001b[0m\n\u001b[1;31mSyntaxError\u001b[0m\u001b[1;31m:\u001b[0m invalid syntax\n"
     ]
    }
   ],
   "source": [
    "=2*87.9x10^6"
   ]
  },
  {
   "cell_type": "markdown",
   "metadata": {},
   "source": [
    "***QUIZ QUESTION***\n",
    "\n",
    "What range of values of `l1_penalty` would set **both** `w[1]` and `w[2]` to zero, if we were to take a step in that coordinate? "
   ]
  },
  {
   "cell_type": "code",
   "execution_count": 17,
   "metadata": {
    "collapsed": false
   },
   "outputs": [
    {
     "ename": "SyntaxError",
     "evalue": "invalid syntax (<ipython-input-17-3edb90505205>, line 1)",
     "output_type": "error",
     "traceback": [
      "\u001b[1;36m  File \u001b[1;32m\"<ipython-input-17-3edb90505205>\"\u001b[1;36m, line \u001b[1;32m1\u001b[0m\n\u001b[1;33m    2*80.9x10^6\u001b[0m\n\u001b[1;37m            ^\u001b[0m\n\u001b[1;31mSyntaxError\u001b[0m\u001b[1;31m:\u001b[0m invalid syntax\n"
     ]
    }
   ],
   "source": [
    "2*80.9x10^6"
   ]
  },
  {
   "cell_type": "markdown",
   "metadata": {},
   "source": [
    "So we can say that `ro[i]` quantifies the significance of the i-th feature: the larger `ro[i]` is, the more likely it is for the i-th feature to be retained."
   ]
  },
  {
   "cell_type": "markdown",
   "metadata": {},
   "source": [
    "## Single Coordinate Descent Step"
   ]
  },
  {
   "cell_type": "markdown",
   "metadata": {},
   "source": [
    "Using the formula above, implement coordinate descent that minimizes the cost function over a single feature i. Note that the intercept (weight 0) is not regularized. The function should accept feature matrix, output, current weights, l1 penalty, and index of feature to optimize over. The function should return new weight for feature i."
   ]
  },
  {
   "cell_type": "code",
   "execution_count": 18,
   "metadata": {
    "collapsed": true
   },
   "outputs": [],
   "source": [
    "def lasso_coordinate_descent_step(i, feature_matrix, output, weights, l1_penalty):\n",
    "    # compute prediction\n",
    "    prediction = predict_output(feature_matrix,weights)\n",
    "    # compute ro[i] = SUM[ [feature_i]*(output - prediction + weight[i]*[feature_i]) ]\n",
    "    feature_i=feature_matrix[:,i]\n",
    "    ro_i = (feature_i*(output-prediction+weights[i]*feature_i)).sum()\n",
    "\n",
    "    if i == 0: # intercept -- do not regularize\n",
    "        new_weight_i = ro_i \n",
    "    elif ro_i < -l1_penalty/2.:\n",
    "        new_weight_i = (ro_i + l1_penalty/2)\n",
    "    elif ro_i > l1_penalty/2.:\n",
    "        new_weight_i = (ro_i - l1_penalty/2)\n",
    "    else:\n",
    "        new_weight_i = 0.\n",
    "    \n",
    "    return new_weight_i"
   ]
  },
  {
   "cell_type": "markdown",
   "metadata": {},
   "source": [
    "To test the function, run the following cell:"
   ]
  },
  {
   "cell_type": "code",
   "execution_count": 19,
   "metadata": {
    "collapsed": false
   },
   "outputs": [
    {
     "name": "stdout",
     "output_type": "stream",
     "text": [
      "0.425558846691\n"
     ]
    }
   ],
   "source": [
    "# should print 0.425558846691\n",
    "import math\n",
    "print lasso_coordinate_descent_step(1, np.array([[3./math.sqrt(13),1./math.sqrt(10)],[2./math.sqrt(13),3./math.sqrt(10)]]), \n",
    "                                   np.array([1., 1.]), np.array([1., 4.]), 0.1)"
   ]
  },
  {
   "cell_type": "markdown",
   "metadata": {
    "collapsed": true
   },
   "source": [
    "## Cyclical coordinate descent "
   ]
  },
  {
   "cell_type": "markdown",
   "metadata": {},
   "source": [
    "Now that we have a function that optimizes the cost function over a single coordinate, let us implement cyclical coordinate descent where we optimize coordinates 0, 1, ..., (d-1) in order and repeat.\n",
    "\n",
    "When do we know to stop? Each time we scan all the coordinates (features) once, we measure the change in weight for each coordinate. If no coordinate changes by more than a specified threshold, we stop."
   ]
  },
  {
   "cell_type": "markdown",
   "metadata": {},
   "source": [
    "For each iteration:\n",
    "1. As you loop over features in order and perform coordinate descent, measure how much each coordinate changes.\n",
    "2. After the loop, if the maximum change across all coordinates is falls below the tolerance, stop. Otherwise, go back to step 1.\n",
    "\n",
    "Return weights\n",
    "\n",
    "**IMPORTANT: when computing a new weight for coordinate i, make sure to incorporate the new weights for coordinates 0, 1, ..., i-1. One good way is to update your weights variable in-place. See following pseudocode for illustration.**\n",
    "```\n",
    "for i in range(len(weights)):\n",
    "    old_weights_i = weights[i] # remember old value of weight[i], as it will be overwritten\n",
    "    # the following line uses new values for weight[0], weight[1], ..., weight[i-1]\n",
    "    #     and old values for weight[i], ..., weight[d-1]\n",
    "    weights[i] = lasso_coordinate_descent_step(i, feature_matrix, output, weights, l1_penalty)\n",
    "    \n",
    "    # use old_weights_i to compute change in coordinate\n",
    "    ...\n",
    "```\n",
    "\n",
    "argmin_{w[i]} [ SUM[ (prediction - output)^2 ] + lambda*( |w[1]| + ... + |w[k]|) ]\n"
   ]
  },
  {
   "cell_type": "code",
   "execution_count": 88,
   "metadata": {
    "collapsed": false
   },
   "outputs": [
    {
     "name": "stdout",
     "output_type": "stream",
     "text": [
      "first cost 4.42287468344e+17\n",
      "2.08058595304e+16\n",
      "4.21481608813e+17\n",
      "count 1\n",
      "1.83229762661e+16\n",
      "2.48288326429e+15\n",
      "count 2\n",
      "1.69542333159e+16\n",
      "1.36874295023e+15\n",
      "count 3\n",
      "1.60511094187e+16\n",
      "9.03123897194e+14\n",
      "count 4\n",
      "1.53287793832e+16\n",
      "7.22330035503e+14\n",
      "count 5\n",
      "1.48214044862e+16\n",
      "5.07374896962e+14\n",
      "count 6\n",
      "1.44821154588e+16\n",
      "3.39289027377e+14\n",
      "count 7\n",
      "1.42449767323e+16\n",
      "2.37138726588e+14\n",
      "count 8\n",
      "1.40374511985e+16\n",
      "2.07525533706e+14\n",
      "count 9\n",
      "1.38509394095e+16\n",
      "1.86511789057e+14\n",
      "count 10\n",
      "1.36762644187e+16\n",
      "1.74674990788e+14\n",
      "count 11\n",
      "1.35074050471e+16\n",
      "1.68859371583e+14\n",
      "count 12\n",
      "1.33405633251e+16\n",
      "1.6684172199e+14\n",
      "count 13\n",
      "1.3174513342e+16\n",
      "1.66049983127e+14\n",
      "count 14\n",
      "1.30092420423e+16\n",
      "1.65271299671e+14\n",
      "count 15\n",
      "1.28451352384e+16\n",
      "1.6410680397e+14\n",
      "count 16\n",
      "1.26826614837e+16\n",
      "1.6247375466e+14\n",
      "count 17\n",
      "1.2522240228e+16\n",
      "1.60421255687e+14\n",
      "count 18\n",
      "1.23641956184e+16\n",
      "1.58044609565e+14\n",
      "count 19\n",
      "1.22087511421e+16\n",
      "1.55444476334e+14\n",
      "count 20\n",
      "1.20560415709e+16\n",
      "1.52709571225e+14\n",
      "count 21\n",
      "1.19061302508e+16\n",
      "1.49911320052e+14\n",
      "count 22\n",
      "1.17590261638e+16\n",
      "1.47104087007e+14\n",
      "count 23\n",
      "1.16146985508e+16\n",
      "1.44327613025e+14\n",
      "count 24\n",
      "1.1473088549e+16\n",
      "1.41610001827e+14\n",
      "count 25\n",
      "1.13296291112e+16\n",
      "1.43459437788e+14\n",
      "count 26\n",
      "1.11859262215e+16\n",
      "1.43702889686e+14\n",
      "count 27\n",
      "1.10221383185e+16\n",
      "1.63787902976e+14\n",
      "count 28\n",
      "1.08622939287e+16\n",
      "1.59844389801e+14\n",
      "count 29\n",
      "1.0710129162e+16\n",
      "1.52164766697e+14\n",
      "count 30\n",
      "1.056517866e+16\n",
      "1.44950502049e+14\n",
      "count 31\n",
      "1.04264170653e+16\n",
      "1.38761594631e+14\n",
      "count 32\n",
      "1.02929257485e+16\n",
      "1.33491316807e+14\n",
      "count 33\n",
      "1.01639637653e+16\n",
      "1.28961983217e+14\n",
      "count 34\n",
      "1.00389307489e+16\n",
      "1.25033016406e+14\n",
      "count 35\n",
      "9.91733387751e+15\n",
      "1.21596871407e+14\n",
      "count 36\n",
      "9.79876346242e+15\n",
      "1.18570415092e+14\n",
      "count 37\n",
      "9.68287472162e+15\n",
      "1.15888740803e+14\n",
      "count 38\n",
      "9.5693740305e+15\n",
      "1.13500691116e+14\n",
      "count 39\n",
      "9.45800850071e+15\n",
      "1.11365529785e+14\n",
      "count 40\n",
      "9.34855805435e+15\n",
      "1.09450446366e+14\n",
      "count 41\n",
      "9.24082937254e+15\n",
      "1.07728681812e+14\n",
      "count 42\n",
      "9.13465125218e+15\n",
      "1.06178120358e+14\n",
      "count 43\n",
      "9.02987102041e+15\n",
      "1.04780231767e+14\n",
      "count 44\n",
      "8.92635174379e+15\n",
      "1.03519276622e+14\n",
      "count 45\n",
      "8.8239700349e+15\n",
      "1.02381708887e+14\n",
      "count 46\n",
      "8.72261430871e+15\n",
      "1.0135572619e+14\n",
      "count 47\n",
      "8.62218337812e+15\n",
      "1.00430930598e+14\n",
      "count 48\n",
      "8.52258530621e+15\n",
      "9.95980719046e+13\n",
      "count 49\n",
      "8.42373645374e+15\n",
      "9.88488524726e+13\n",
      "count 50\n",
      "8.32556067581e+15\n",
      "9.81757779268e+13\n",
      "count 51\n",
      "8.22027954909e+15\n",
      "1.05281126718e+14\n",
      "count 52\n",
      "8.1111792538e+15\n",
      "1.09100295289e+14\n",
      "count 53\n",
      "8.00312267178e+15\n",
      "1.08056582022e+14\n",
      "count 54\n",
      "7.89603361361e+15\n",
      "1.07089058169e+14\n",
      "count 55\n",
      "7.78982369257e+15\n",
      "1.06209921043e+14\n",
      "count 56\n",
      "7.68438491387e+15\n",
      "1.05438778699e+14\n",
      "count 57\n",
      "7.57962414238e+15\n",
      "1.04760771491e+14\n",
      "count 58\n",
      "7.47546584385e+15\n",
      "1.04158298536e+14\n",
      "count 59\n",
      "7.37184954312e+15\n",
      "1.03616300726e+14\n",
      "count 60\n",
      "7.2687267974e+15\n",
      "1.0312274572e+14\n",
      "count 61\n",
      "7.16605856098e+15\n",
      "1.02668236421e+14\n",
      "count 62\n",
      "7.06381306233e+15\n",
      "1.02245498645e+14\n",
      "count 63\n",
      "6.96196414124e+15\n",
      "1.01848921095e+14\n",
      "count 64\n",
      "6.86048996097e+15\n",
      "1.01474180272e+14\n",
      "count 65\n",
      "6.75937201586e+15\n",
      "1.01117945109e+14\n",
      "count 66\n",
      "6.6585943683e+15\n",
      "1.00777647558e+14\n",
      "count 67\n",
      "6.55814306292e+15\n",
      "1.00451305381e+14\n",
      "count 68\n",
      "6.45800567735e+15\n",
      "1.0013738557e+14\n",
      "count 69\n",
      "6.35817097818e+15\n",
      "9.98346991728e+13\n",
      "count 70\n",
      "6.25862865783e+15\n",
      "9.95423203445e+13\n",
      "count 71\n",
      "6.15936913377e+15\n",
      "9.92595240575e+13\n",
      "count 72\n",
      "6.06038339558e+15\n",
      "9.89857381977e+13\n",
      "count 73\n",
      "5.96166288883e+15\n",
      "9.87205067482e+13\n",
      "count 74\n",
      "5.86319942731e+15\n",
      "9.84634615208e+13\n",
      "count 75\n",
      "5.76498512683e+15\n",
      "9.82143004808e+13\n",
      "count 76\n",
      "5.66701235567e+15\n",
      "9.79727711578e+13\n",
      "count 77\n",
      "5.56927369769e+15\n",
      "9.77386579791e+13\n",
      "count 78\n",
      "5.47176192506e+15\n",
      "9.75117726282e+13\n",
      "count 79\n",
      "5.37446997833e+15\n",
      "9.7291946736e+13\n",
      "count 80\n",
      "5.27739095196e+15\n",
      "9.70790263671e+13\n",
      "count 81\n",
      "5.18051808407e+15\n",
      "9.68728678891e+13\n",
      "count 82\n",
      "5.08384474917e+15\n",
      "9.66733349029e+13\n",
      "count 83\n",
      "4.98736445318e+15\n",
      "9.64802959865e+13\n",
      "count 84\n",
      "4.89107083012e+15\n",
      "9.62936230612e+13\n",
      "count 85\n",
      "4.79495763989e+15\n",
      "9.61131902306e+13\n",
      "count 86\n",
      "4.69901876691e+15\n",
      "9.59388729788e+13\n",
      "count 87\n",
      "4.60324821927e+15\n",
      "9.57705476383e+13\n",
      "count 88\n",
      "4.50764012821e+15\n",
      "9.56080910603e+13\n",
      "count 89\n",
      "4.41218874778e+15\n",
      "9.54513804332e+13\n",
      "count 90\n",
      "4.31688845457e+15\n",
      "9.53002932101e+13\n",
      "count 91\n",
      "4.22173374745e+15\n",
      "9.51547071142e+13\n",
      "count 92\n",
      "4.12671924726e+15\n",
      "9.50145001973e+13\n",
      "count 93\n",
      "4.03183969632e+15\n",
      "9.4879550935e+13\n",
      "count 94\n",
      "3.94076141092e+15\n",
      "9.10782854044e+13\n",
      "count 95\n",
      "3.8497428259e+15\n",
      "9.10185850178e+13\n",
      "count 96\n",
      "3.75789521912e+15\n",
      "9.184760678e+13\n",
      "count 97\n",
      "3.66504155232e+15\n",
      "9.28536667941e+13\n",
      "count 98\n",
      "3.57111178071e+15\n",
      "9.39297716175e+13\n",
      "count 99\n",
      "3.47611720795e+15\n",
      "9.4994572761e+13\n",
      "count 100\n",
      "3.38012126161e+15\n",
      "9.59959463399e+13\n",
      "count 101\n",
      "3.28321439396e+15\n",
      "9.690686765e+13\n",
      "count 102\n",
      "3.18547404624e+15\n",
      "9.77403477147e+13\n",
      "count 103\n",
      "3.08697842566e+15\n",
      "9.84956205798e+13\n",
      "count 104\n",
      "2.98784750466e+15\n",
      "9.91309210057e+13\n",
      "count 105\n",
      "2.8881672961e+15\n",
      "9.96802085592e+13\n",
      "count 106\n",
      "2.78801740313e+15\n",
      "1.0014989297e+14\n",
      "count 107\n",
      "2.68746622145e+15\n",
      "1.00551181681e+14\n",
      "count 108\n",
      "2.58657288362e+15\n",
      "1.0089333783e+14\n",
      "count 109\n",
      "2.48538880029e+15\n",
      "1.01184083326e+14\n",
      "count 110\n",
      "2.47143544654e+15\n",
      "1.39533537538e+13\n",
      "count 111\n",
      "2.47095168479e+15\n",
      "483761743689.0\n",
      "count 112\n",
      "2.47027324979e+15\n",
      "678434999128.0\n",
      "count 113\n",
      "2.46942966857e+15\n",
      "843581224627.0\n",
      "count 114\n",
      "2.47112389145e+15\n",
      "-1.6942228807e+12\n",
      "2.47112389145e+15\n",
      "2.47112389145e+15\n",
      "-1.6942228807e+12\n"
     ]
    }
   ],
   "source": [
    "weights_test2 = np.zeros(14)\n",
    "old_weights = np.zeros(14)\n",
    "all_features = ['bedrooms',\n",
    "                'bathrooms',\n",
    "                'sqft_living',\n",
    "                'sqft_lot',\n",
    "                'floors',\n",
    "                'waterfront', \n",
    "                'view', \n",
    "                'condition', \n",
    "                'grade',\n",
    "                'sqft_above',\n",
    "                'sqft_basement',\n",
    "                'yr_built', \n",
    "                'yr_renovated']\n",
    "initial_weights2=np.zeros(14)\n",
    "\n",
    "my_output = 'price'\n",
    "(all_feature_matrix, output) = get_numpy_data(sales, all_features, my_output)\n",
    "all_feature_matrix, norms = normalize_features(all_feature_matrix)\n",
    "\n",
    "cost_function_old =  0.0\n",
    "for i in range(len(weights_test2)):\n",
    "    weights_test2[i]= lasso_coordinate_descent_step(i, all_feature_matrix, output, initial_weights2, l1_penalty)\n",
    "old_weights = weights_test2\n",
    "prediction = predict_output(all_feature_matrix,old_weights)\n",
    "part1=((prediction - output)**2).sum()\n",
    "part2=(abs(old_weights)).sum()\n",
    "part3=l1_penalty*part2\n",
    "cost_function = part1+part3\n",
    "cost_check = cost_function - cost_function_old\n",
    "cost_function_old = cost_function\n",
    "tolerance = 1.0\n",
    "print 'first cost',cost_function_old \n",
    "\n",
    "count = 0\n",
    "while (count<1000):\n",
    "    old_weights = weights_test2\n",
    "    for i in range(len(weights_test2)):\n",
    "        weights_test2[i]= lasso_coordinate_descent_step(i, all_feature_matrix, output, old_weights, l1_penalty)\n",
    "        \n",
    "    prediction = predict_output(all_feature_matrix,old_weights)\n",
    "    part1=((prediction - output)**2).sum()\n",
    "    part2=(abs(old_weights)).sum()\n",
    "    part3=l1_penalty*part2\n",
    "    cost_function = part1+part3\n",
    "    print cost_function\n",
    "    cost_check = -cost_function + cost_function_old\n",
    "    print cost_check\n",
    "    cost_function_old = cost_function\n",
    "    if cost_check < tolerance:\n",
    "        break\n",
    "    #print 'weights',weights_test2\n",
    "    count=count+1\n",
    "    print 'count',count\n",
    "\n",
    "\n",
    "print cost_function_old\n",
    "print cost_function\n",
    "print cost_check"
   ]
  },
  {
   "cell_type": "markdown",
   "metadata": {},
   "source": [
    "Using the following parameters, learn the weights on the sales dataset. "
   ]
  },
  {
   "cell_type": "code",
   "execution_count": 38,
   "metadata": {
    "collapsed": false
   },
   "outputs": [],
   "source": [
    "lasso_simple_features = ['sqft_living', 'bedrooms']\n",
    "my_output = 'price'\n",
    "(lasso_feature_matrix, output) = get_numpy_data(sales, lasso_simple_features, my_output)\n",
    "lasso_feature_matrix, norms = normalize_features(lasso_feature_matrix)\n",
    "\n",
    "initial_weights = np.zeros(3)\n",
    "l1_penalty = 1e7\n",
    "tolerance = 1.0\n",
    "weights_test = np.zeros(3)\n",
    "i=0\n",
    "weights_test[i]= lasso_coordinate_descent_step(i, lasso_feature_matrix, output, initial_weights, l1_penalty)"
   ]
  },
  {
   "cell_type": "markdown",
   "metadata": {},
   "source": [
    "First create a normalized version of the feature matrix, `normalized_simple_feature_matrix`"
   ]
  },
  {
   "cell_type": "code",
   "execution_count": 22,
   "metadata": {
    "collapsed": true
   },
   "outputs": [],
   "source": [
    "(simple_feature_matrix, output) = get_numpy_data(sales, simple_features, my_output)\n",
    "(normalized_simple_feature_matrix, simple_norms) = normalize_features(simple_feature_matrix) # normalize features"
   ]
  },
  {
   "cell_type": "markdown",
   "metadata": {},
   "source": [
    "Then, run your implementation of LASSO coordinate descent:"
   ]
  },
  {
   "cell_type": "code",
   "execution_count": 31,
   "metadata": {
    "collapsed": false
   },
   "outputs": [
    {
     "name": "stdout",
     "output_type": "stream",
     "text": [
      "7.71204784862e+26\n",
      "[ 79400304.65805088  82939472.63156717  75966703.41511109]\n"
     ]
    }
   ],
   "source": [
    "weights = lasso_cyclical_coordinate_descent(normalized_simple_feature_matrix, output,\n",
    "                                            initial_weights, l1_penalty, tolerance)\n",
    "prediction = predict_output(simple_feature_matrix,weights)\n",
    "error = prediction - output\n",
    "RSS = (error*error).sum()\n",
    "print RSS\n",
    "print weights"
   ]
  },
  {
   "cell_type": "markdown",
   "metadata": {},
   "source": [
    "***QUIZ QUESTIONS***\n",
    "1. What is the RSS of the learned model on the normalized dataset?\n",
    "2. Which features had weight zero at convergence?\n",
    "bedroom"
   ]
  },
  {
   "cell_type": "markdown",
   "metadata": {},
   "source": [
    "# Evaluating LASSO fit with more features"
   ]
  },
  {
   "cell_type": "markdown",
   "metadata": {},
   "source": [
    "Let us split the sales dataset into training and test sets."
   ]
  },
  {
   "cell_type": "code",
   "execution_count": 33,
   "metadata": {
    "collapsed": true
   },
   "outputs": [],
   "source": [
    "train_data,test_data = sales.random_split(.8,seed=0)"
   ]
  },
  {
   "cell_type": "markdown",
   "metadata": {},
   "source": [
    "Let us consider the following set of features."
   ]
  },
  {
   "cell_type": "code",
   "execution_count": 34,
   "metadata": {
    "collapsed": true
   },
   "outputs": [],
   "source": [
    "all_features = ['bedrooms',\n",
    "                'bathrooms',\n",
    "                'sqft_living',\n",
    "                'sqft_lot',\n",
    "                'floors',\n",
    "                'waterfront', \n",
    "                'view', \n",
    "                'condition', \n",
    "                'grade',\n",
    "                'sqft_above',\n",
    "                'sqft_basement',\n",
    "                'yr_built', \n",
    "                'yr_renovated']"
   ]
  },
  {
   "cell_type": "markdown",
   "metadata": {},
   "source": [
    "First, create a normalized feature matrix from the TRAINING data with these features.  (Make you store the norms for the normalization, since we'll use them later)"
   ]
  },
  {
   "cell_type": "code",
   "execution_count": 35,
   "metadata": {
    "collapsed": false
   },
   "outputs": [],
   "source": [
    "my_output = 'price'\n",
    "(simple_feature_matrix, output) = get_numpy_data(train_data, all_features, my_output)\n",
    "simple_feature_matrix, norms = normalize_features(simple_feature_matrix)\n"
   ]
  },
  {
   "cell_type": "markdown",
   "metadata": {},
   "source": [
    "First, learn the weights with `l1_penalty=1e7`, on the training data. Initialize weights to all zeros, and set the `tolerance=1`.  Call resulting weights `weights1e7`, you will need them later."
   ]
  },
  {
   "cell_type": "code",
   "execution_count": 36,
   "metadata": {
    "collapsed": false
   },
   "outputs": [
    {
     "name": "stdout",
     "output_type": "stream",
     "text": [
      "(14L,)\n",
      "(17384L, 14L)\n",
      "(17384L,)\n"
     ]
    },
    {
     "ename": "IndexError",
     "evalue": "index 3 is out of bounds for axis 0 with size 3",
     "output_type": "error",
     "traceback": [
      "\u001b[1;31m---------------------------------------------------------------------------\u001b[0m",
      "\u001b[1;31mIndexError\u001b[0m                                Traceback (most recent call last)",
      "\u001b[1;32m<ipython-input-36-f3547ac012eb>\u001b[0m in \u001b[0;36m<module>\u001b[1;34m()\u001b[0m\n\u001b[0;32m      8\u001b[0m \u001b[1;33m\u001b[0m\u001b[0m\n\u001b[0;32m      9\u001b[0m weights = lasso_cyclical_coordinate_descent(simple_feature_matrix, output,\n\u001b[1;32m---> 10\u001b[1;33m                                            initial_weights, l1_penalty, tolerance)\n\u001b[0m\u001b[0;32m     11\u001b[0m \u001b[1;31m#prediction = predict_output(simple_feature_matrix,weights)\u001b[0m\u001b[1;33m\u001b[0m\u001b[1;33m\u001b[0m\u001b[0m\n\u001b[0;32m     12\u001b[0m \u001b[1;31m#error = prediction - output\u001b[0m\u001b[1;33m\u001b[0m\u001b[1;33m\u001b[0m\u001b[0m\n",
      "\u001b[1;32m<ipython-input-28-2a0bb5066114>\u001b[0m in \u001b[0;36mlasso_cyclical_coordinate_descent\u001b[1;34m(feature_matrix, output, initial_weights, l1_penalty, tolerance)\u001b[0m\n\u001b[0;32m      2\u001b[0m     \u001b[0mold_weights\u001b[0m\u001b[1;33m=\u001b[0m\u001b[0minitial_weights\u001b[0m\u001b[1;33m\u001b[0m\u001b[0m\n\u001b[0;32m      3\u001b[0m     \u001b[1;32mfor\u001b[0m \u001b[0mi\u001b[0m \u001b[1;32min\u001b[0m \u001b[0mrange\u001b[0m\u001b[1;33m(\u001b[0m\u001b[0mlen\u001b[0m\u001b[1;33m(\u001b[0m\u001b[0minitial_weights\u001b[0m\u001b[1;33m)\u001b[0m\u001b[1;33m)\u001b[0m\u001b[1;33m:\u001b[0m\u001b[1;33m\u001b[0m\u001b[0m\n\u001b[1;32m----> 4\u001b[1;33m         \u001b[0mweights\u001b[0m\u001b[1;33m[\u001b[0m\u001b[0mi\u001b[0m\u001b[1;33m]\u001b[0m \u001b[1;33m=\u001b[0m \u001b[0mlasso_coordinate_descent_step\u001b[0m\u001b[1;33m(\u001b[0m\u001b[0mi\u001b[0m\u001b[1;33m,\u001b[0m\u001b[0mfeature_matrix\u001b[0m\u001b[1;33m,\u001b[0m\u001b[0moutput\u001b[0m\u001b[1;33m,\u001b[0m\u001b[0mold_weights\u001b[0m\u001b[1;33m,\u001b[0m\u001b[0ml1_penalty\u001b[0m\u001b[1;33m)\u001b[0m\u001b[1;33m\u001b[0m\u001b[0m\n\u001b[0m\u001b[0;32m      5\u001b[0m         \u001b[0mchange\u001b[0m\u001b[1;33m=\u001b[0m\u001b[0mold_weights\u001b[0m\u001b[1;33m[\u001b[0m\u001b[0mi\u001b[0m\u001b[1;33m]\u001b[0m\u001b[1;33m-\u001b[0m\u001b[0mweights\u001b[0m\u001b[1;33m[\u001b[0m\u001b[0mi\u001b[0m\u001b[1;33m]\u001b[0m\u001b[1;33m\u001b[0m\u001b[0m\n\u001b[0;32m      6\u001b[0m \u001b[1;33m\u001b[0m\u001b[0m\n",
      "\u001b[1;31mIndexError\u001b[0m: index 3 is out of bounds for axis 0 with size 3"
     ]
    }
   ],
   "source": [
    "initial_weights = np.zeros(14)\n",
    "print initial_weights.shape\n",
    "print simple_feature_matrix.shape\n",
    "print output.shape\n",
    "\n",
    "l1_penalty = 1e7\n",
    "tolerance = 1.0\n",
    "\n",
    "weights = lasso_cyclical_coordinate_descent(simple_feature_matrix, output,\n",
    "                                           initial_weights, l1_penalty, tolerance)\n",
    "#prediction = predict_output(simple_feature_matrix,weights)\n",
    "#error = prediction - output\n",
    "#RSS = (error*error).sum()\n",
    "#print RSS\n",
    "#weights"
   ]
  },
  {
   "cell_type": "markdown",
   "metadata": {},
   "source": [
    "***QUIZ QUESTION***\n",
    "\n",
    "What features had non-zero weight in this case?"
   ]
  },
  {
   "cell_type": "markdown",
   "metadata": {
    "collapsed": true
   },
   "source": [
    "Next, learn the weights with `l1_penalty=1e8`, on the training data. Initialize weights to all zeros, and set the `tolerance=1`.  Call resulting weights `weights1e8`, you will need them later."
   ]
  },
  {
   "cell_type": "code",
   "execution_count": null,
   "metadata": {
    "collapsed": true
   },
   "outputs": [],
   "source": []
  },
  {
   "cell_type": "markdown",
   "metadata": {},
   "source": [
    "***QUIZ QUESTION***\n",
    "\n",
    "What features had non-zero weight in this case?"
   ]
  },
  {
   "cell_type": "markdown",
   "metadata": {},
   "source": [
    "Finally, learn the weights with `l1_penalty=1e4`, on the training data. Initialize weights to all zeros, and set the `tolerance=5e5`.  Call resulting weights `weights1e4`, you will need them later.  (This case will take quite a bit longer to converge than the others above.)"
   ]
  },
  {
   "cell_type": "code",
   "execution_count": null,
   "metadata": {
    "collapsed": true
   },
   "outputs": [],
   "source": []
  },
  {
   "cell_type": "markdown",
   "metadata": {},
   "source": [
    "***QUIZ QUESTION***\n",
    "\n",
    "What features had non-zero weight in this case?"
   ]
  },
  {
   "cell_type": "markdown",
   "metadata": {},
   "source": [
    "## Rescaling learned weights"
   ]
  },
  {
   "cell_type": "markdown",
   "metadata": {},
   "source": [
    "Recall that we normalized our feature matrix, before learning the weights.  To use these weights on a test set, we must normalize the test data in the same way.\n",
    "\n",
    "Alternatively, we can rescale the learned weights to include the normalization, so we never have to worry about normalizing the test data: \n",
    "\n",
    "In this case, we must scale the resulting weights so that we can make predictions with *original* features:\n",
    " 1. Store the norms of the original features to a vector called `norms`:\n",
    "```\n",
    "features, norms = normalize_features(features)\n",
    "```\n",
    " 2. Run Lasso on the normalized features and obtain a `weights` vector\n",
    " 3. Compute the weights for the original features by performing element-wise division, i.e.\n",
    "```\n",
    "weights_normalized = weights / norms\n",
    "```\n",
    "Now, we can apply `weights_normalized` to the test data, without normalizing it!"
   ]
  },
  {
   "cell_type": "markdown",
   "metadata": {},
   "source": [
    "Create a normalized version of each of the weights learned above. (`weights1e4`, `weights1e7`, `weights1e8`)."
   ]
  },
  {
   "cell_type": "code",
   "execution_count": null,
   "metadata": {
    "collapsed": true
   },
   "outputs": [],
   "source": []
  },
  {
   "cell_type": "markdown",
   "metadata": {},
   "source": [
    "To check your results, if you call `normalized_weights1e7` the normalized version of `weights1e7`, then:\n",
    "```\n",
    "print normalized_weights1e7[3]\n",
    "```\n",
    "should return 161.31745624837794."
   ]
  },
  {
   "cell_type": "markdown",
   "metadata": {},
   "source": [
    "## Evaluating each of the learned models on the test data"
   ]
  },
  {
   "cell_type": "markdown",
   "metadata": {},
   "source": [
    "Let's now evaluate the three models on the test data:"
   ]
  },
  {
   "cell_type": "code",
   "execution_count": null,
   "metadata": {
    "collapsed": true
   },
   "outputs": [],
   "source": [
    "(test_feature_matrix, test_output) = get_numpy_data(test_data, all_features, 'price')"
   ]
  },
  {
   "cell_type": "markdown",
   "metadata": {},
   "source": [
    "Compute the RSS of each of the three normalized weights on the (unnormalized) `test_feature_matrix`:"
   ]
  },
  {
   "cell_type": "code",
   "execution_count": null,
   "metadata": {
    "collapsed": true
   },
   "outputs": [],
   "source": []
  },
  {
   "cell_type": "code",
   "execution_count": null,
   "metadata": {
    "collapsed": true
   },
   "outputs": [],
   "source": []
  },
  {
   "cell_type": "code",
   "execution_count": null,
   "metadata": {
    "collapsed": true
   },
   "outputs": [],
   "source": []
  },
  {
   "cell_type": "markdown",
   "metadata": {},
   "source": [
    "***QUIZ QUESTION***\n",
    "\n",
    "Which model performed best on the test data?"
   ]
  }
 ],
 "metadata": {
  "kernelspec": {
   "display_name": "Python 2",
   "language": "python",
   "name": "python2"
  },
  "language_info": {
   "codemirror_mode": {
    "name": "ipython",
    "version": 2
   },
   "file_extension": ".py",
   "mimetype": "text/x-python",
   "name": "python",
   "nbconvert_exporter": "python",
   "pygments_lexer": "ipython2",
   "version": "2.7.10"
  }
 },
 "nbformat": 4,
 "nbformat_minor": 0
}
